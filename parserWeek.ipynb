{
  "nbformat": 4,
  "nbformat_minor": 0,
  "metadata": {
    "colab": {
      "name": "parserWeek.ipynb",
      "provenance": [],
      "collapsed_sections": [],
      "authorship_tag": "ABX9TyO9opYq89Cdn3vnV5oEVQk5",
      "include_colab_link": true
    },
    "kernelspec": {
      "name": "python3",
      "display_name": "Python 3"
    },
    "language_info": {
      "name": "python"
    }
  },
  "cells": [
    {
      "cell_type": "markdown",
      "metadata": {
        "id": "view-in-github",
        "colab_type": "text"
      },
      "source": [
        "<a href=\"https://colab.research.google.com/github/ali-rabiee/Portfolio-Formation/blob/main/parserWeek.ipynb\" target=\"_parent\"><img src=\"https://colab.research.google.com/assets/colab-badge.svg\" alt=\"Open In Colab\"/></a>"
      ]
    },
    {
      "cell_type": "markdown",
      "source": [
        "# Google Drive Connection"
      ],
      "metadata": {
        "id": "DmUJEmRt4Nep"
      }
    },
    {
      "cell_type": "code",
      "source": [
        "from google.colab import drive\n",
        "import os\n",
        "drive.mount('/content/drive/', force_remount=True)\n",
        "os.chdir('drive/My Drive/Colab Notebooks/DQN')"
      ],
      "metadata": {
        "id": "fyyhlrf04JvJ"
      },
      "execution_count": null,
      "outputs": []
    },
    {
      "cell_type": "markdown",
      "source": [
        "# parserWeek"
      ],
      "metadata": {
        "id": "wM7E4C_H4TL-"
      }
    },
    {
      "cell_type": "code",
      "execution_count": null,
      "metadata": {
        "id": "lYmLGxHg36Ct"
      },
      "outputs": [],
      "source": [
        "import pandas # library to work with (.csv) datasets\n",
        "# library to work with datetime data\n",
        "from datetime import datetime \n",
        "from datetime import timedelta\n",
        "\n",
        "file = open(\"daxWeek.csv\", \"w+\") # creating a new file (.csv) to store the results\n",
        "spTimeserie = pandas.read_csv('daxDay.csv') # reading \"daxDay.csv\" dataset to start processing\n",
        "file.write(\"Date,Time,Open,High,Low,Close\\n\") # assigning headers (column names) to the newly-created output dataset\n",
        "\n",
        "# creating some lists according to columns of the datasets, which contain values of the input dataset's columns as lists. \n",
        "Date = spTimeserie.loc[:, 'Date'].tolist() \n",
        "Time = spTimeserie.loc[:, 'Time'].tolist()\n",
        "Open = spTimeserie.loc[:, 'Open'].tolist()\n",
        "High = spTimeserie.loc[:, 'High'].tolist()\n",
        "Low = spTimeserie.loc[:, 'Low'].tolist()\n",
        "Close = spTimeserie.loc[:, 'Close'].tolist()\n",
        "Volume = spTimeserie.loc[:, 'Volume'].tolist()\n",
        "\n",
        "records = [] # creatting an empty list\n",
        "limit = len(Open) # setting a limit according to the size of the input dataset\n",
        "for i in range(0,limit): # this loop turns 'records' to a kind of dataset which contains all values of the input with their column names\n",
        "    records.append({'Date' : Date[i],'Time' : Time[i], 'Open': Open[i], 'High': High[i], 'Low': Low[i], 'Close': Close[i], 'Volume': Volume[i] })\n",
        "\n",
        "# initializing some variables\n",
        "close=0 # initializing 'closing price' with 0\n",
        "opeN = records[0]['Open'] # initializing 'opening price' with the 1st record of 'records'\n",
        "low = records[0]['Low'] # initializing 'lowest price' with the 1st record of 'records'\n",
        "high = records[0]['High'] # initializing 'highest price' with the 1st record of 'records'\n",
        "currentDate=datetime.strptime(records[0]['Date'], '%m/%d/%Y') # initializing 'currentDate' with the 1st record of 'records'\n",
        "delta = timedelta(days = 7) # initializing 'delta' as 7 days or 1 week\n",
        "volume=0 # setting initial volume to zero\n",
        "\n",
        "for record in records: # loop over 'records' dataset\n",
        "    \n",
        "    if(record['High']>high): # checking if the current 'high' is more than the initial one\n",
        "        high=record['High'] # ... if so, we reassign variable 'high'\n",
        "    if(record['Low']<low): # checking if the current 'low' is less than the initial one\n",
        "        low=record['Low'] # ... if so, we reassign variable 'low'\n",
        "    nextDate=record['Date'] # with the help of this line we go to the next date\n",
        "\n",
        "    # prints two bounds of the week that we are investigating (starting with nextDate, ending with currentDate + 7)\n",
        "    print( datetime.strptime(nextDate, '%m/%d/%Y').strftime(\"%d/%m/%Y\") + \"  \" + (currentDate + delta).strftime(\"%d/%m/%Y\")) \n",
        "    print(currentDate.strftime(\"%d/%m/%Y\")) # prints currentDate in the output\n",
        "\n",
        "    # ???\n",
        "    print(str(datetime.strptime(nextDate, '%m/%d/%Y') >= (currentDate + delta))  + \" or \" + str(datetime.strptime(nextDate, '%m/%d/%Y') < currentDate) + \" = \" + \n",
        "          str(datetime.strptime(nextDate, '%m/%d/%Y') >= (currentDate + delta) or datetime.strptime(nextDate, '%m/%d/%Y') < currentDate ) )\n",
        "    \n",
        "    # checking edge cases and boundries :\n",
        "    if(datetime.strptime(nextDate, '%m/%d/%Y') >= (currentDate + delta) or datetime.strptime(nextDate, '%m/%d/%Y') < currentDate ):\n",
        "        print(\"writing\")\n",
        "        if(datetime.strptime(nextDate, '%m/%d/%Y') < currentDate): # checking if our iteration is before todays date\n",
        "            # storing data based on the last written record:\n",
        "            file.write(str(records[-1]['Date']) + ',' + \"00:00\" + ',' + str(opeN) + ',' + str(high) + ',' + str(low) + ',' + str(close) + '\\n')\n",
        "        else: # (if our iteration is after the next weeks date)\n",
        "            # storing in the output dataset:\n",
        "            file.write(str(nextDate) + ',' + \"00:00\" + ',' + str(opeN) + ',' + str(high) + ',' + str(low) + ',' + str(close) + '\\n')\n",
        "        \n",
        "        high = record['High'] # updating value of 'high'\n",
        "        opeN = record['Open'] # updating value of 'open'\n",
        "        low = record['Low'] # updating value of 'low'\n",
        "        volume=0 # reassigning 'volume' to zero\n",
        "        currentDate=datetime.strptime(nextDate, '%m/%d/%Y') # updating 'currentDate'\n",
        "    \n",
        "    volume+=record['Volume'] # updating 'volume'\n",
        "    close=record['Close'] # updating 'close'\n",
        "\n",
        "print(\"Done\") # notifying that the notebook has been completed"
      ]
    }
  ]
}